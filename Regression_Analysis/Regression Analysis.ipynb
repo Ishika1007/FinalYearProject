{
 "cells": [
  {
   "cell_type": "markdown",
   "metadata": {},
   "source": [
    "# Regression Analysis\n"
   ]
  },
  {
   "cell_type": "markdown",
   "metadata": {},
   "source": [
    "The following code is for Regression Analysis and predicting the score finally. The parameters considered for scoring are \n",
    "Indegree Centrality , Outdegree Centrality, Pagerank Score, Payment words, Session words"
   ]
  },
  {
   "cell_type": "code",
   "execution_count": 6,
   "metadata": {},
   "outputs": [
    {
     "name": "stdout",
     "output_type": "stream",
     "text": [
      "R-squared score (training)(Linear regression): 0.474\n",
      "R-squared score (testing)(Linear Regression): 0.353\n",
      "Number of non-zero features: 6\n",
      "linear regression linear model intercept: 0.9727896992987417\n",
      "linear regression linear model coeff:\n",
      "[-1.51975713  1.19948897  5.33328875  4.02460338  1.18104906  1.80164851]\n",
      "lasso regression linear model intercept: 2.3908629441624365\n",
      "lasso regression linear model coeff:\n",
      "[ 0.  0.  0.  0.  0.  0.]\n",
      "Non-zero features: 0\n",
      "R-squared score (training): 0.000\n",
      "R-squared score (test): -0.017\n",
      "\n",
      "Features with non-zero weight (sorted by absolute magnitude):\n"
     ]
    },
    {
     "data": {
      "image/png": "[encoded data removed]",
      "text/plain": [
       "<matplotlib.figure.Figure at 0x7fe9aa7c6c18>"
      ]
     },
     "metadata": {},
     "output_type": "display_data"
    },
    {
     "data": {
      "image/png": "[encoded data removed]",
      "text/plain": [
       "<matplotlib.figure.Figure at 0x7fe9a8601898>"
      ]
     },
     "metadata": {},
     "output_type": "display_data"
    }
   ],
   "source": [
    "import pandas as pd\n",
    "from sklearn import datasets\n",
    "\n",
    "from sklearn import tree\n",
    "from sklearn.datasets import load_iris\n",
    "from sklearn.tree import DecisionTreeClassifier\n",
    "from sklearn.model_selection import train_test_split\n",
    "from sklearn.tree import DecisionTreeRegressor\n",
    "import matplotlib.pyplot as plt\n",
    "from sklearn import linear_model\n",
    "import numpy as np\n",
    "import statsmodels.api as sm\n",
    "\n",
    "from sklearn.linear_model import Ridge\n",
    "from sklearn.linear_model import Lasso\n",
    "from sklearn.preprocessing import MinMaxScaler\n",
    "scaler = MinMaxScaler()\n",
    "\n",
    "\n",
    "reg = linear_model.LinearRegression()\n",
    "dfs = pd.read_excel('FinalData.xlsx', sheet_name=0)\n",
    "features = dfs.loc[dfs['Indegree Centrality']>=0,['Indegree Centrality','Outdegree Centrality','PageRank Score','Payment words:','Session words:','Method:']].values\n",
    "value = list(dfs['Fscore'].values)\n",
    "\n",
    "X_train, X_test, y_train, y_test = train_test_split(features, value,\n",
    "                                                   random_state = 0)\n",
    "\n",
    "\n",
    "X_train_scaled = scaler.fit_transform(X_train)\n",
    "X_test_scaled = scaler.transform(X_test)\n",
    "\n",
    "Features_scaled = scaler.fit_transform(features)\n",
    "linlasso = Lasso(alpha=8, max_iter = 1000).fit(X_train_scaled, y_train)\n",
    "\n",
    "reg.fit(Features_scaled, value)\n",
    "linridge = Ridge(alpha=0).fit(X_train_scaled, y_train)\n",
    "print('R-squared score (training)(Linear regression): {:.3f}'\n",
    "     .format(linridge.score(X_train_scaled, y_train)))\n",
    "print('R-squared score (testing)(Linear Regression): {:.3f}'\n",
    "     .format(linridge.score(X_test_scaled, y_test)))\n",
    "print('Number of non-zero features: {}'\n",
    "     .format(np.sum(linridge.coef_ != 0)))\n",
    "print('linear regression linear model intercept: {}'\n",
    "     .format(linridge.intercept_))\n",
    "print('linear regression linear model coeff:\\n{}'\n",
    "     .format(linridge.coef_))\n",
    "\n",
    "print('lasso regression linear model intercept: {}'\n",
    "     .format(linlasso.intercept_))\n",
    "print('lasso regression linear model coeff:\\n{}'\n",
    "     .format(linlasso.coef_))\n",
    "print('Non-zero features: {}'\n",
    "     .format(np.sum(linlasso.coef_ != 0)))\n",
    "print('R-squared score (training): {:.3f}'\n",
    "     .format(linlasso.score(X_train_scaled, y_train)))\n",
    "print('R-squared score (test): {:.3f}\\n'\n",
    "     .format(linlasso.score(X_test_scaled, y_test)))\n",
    "print('Features with non-zero weight (sorted by absolute magnitude):')\n",
    "\n",
    "model = sm.OLS(y_train, X_train).fit() \n",
    "predictions = model.predict(X_train)\n",
    "\n",
    "model1 = sm.OLS(y_test,X_test).fit()\n",
    "predictions1 = model1.predict(X_test)\n",
    "\n",
    "plt.scatter(predictions, y_train, s=35, c='b', marker='+', zorder=15)\n",
    "plt.xlabel(\"Predicted Values from model\")\n",
    "plt.ylabel(\"Actual Values Prices\")\n",
    "plt.show()\n",
    "\n",
    "plt.scatter(predictions1, y_test, s=35, c='b', marker='+', zorder=15)\n",
    "plt.xlabel(\"Predicted Values from model\")\n",
    "plt.ylabel(\"Actual Values Prices\")\n",
    "plt.show()\n",
    "\n",
    "for e in sorted (list(zip(list(features), linlasso.coef_)),\n",
    "                key = lambda e: -abs(e[1])):\n",
    "    if e[1] != 0:\n",
    "        print('\\t{}, {:.3f}'.format(e[0], e[1]))\n"
   ]
  },
  {
   "cell_type": "markdown",
   "metadata": {},
   "source": [
    "Trying different regression techniques and comparing the r-squared value"
   ]
  },
  {
   "cell_type": "code",
   "execution_count": 5,
   "metadata": {},
   "outputs": [
    {
     "name": "stdout",
     "output_type": "stream",
     "text": [
      "Ridge regression: effect of alpha regularization parameter\n",
      "\n",
      "Alpha = 0.00\n",
      "num abs(coeff) > 1.0: 5, r-squared training: 0.47\n",
      "Alpha = 0.00\n",
      "num abs(coeff)>1.0:5,    r-squared testing: 0.366\n",
      "Alpha = 1.00\n",
      "num abs(coeff) > 1.0: 4, r-squared training: 0.46\n",
      "Alpha = 1.00\n",
      "num abs(coeff)>1.0:4,    r-squared testing: 0.355\n",
      "Alpha = 10.00\n",
      "num abs(coeff) > 1.0: 3, r-squared training: 0.38\n",
      "Alpha = 10.00\n",
      "num abs(coeff)>1.0:3,    r-squared testing: 0.294\n",
      "Alpha = 20.00\n",
      "num abs(coeff) > 1.0: 2, r-squared training: 0.33\n",
      "Alpha = 20.00\n",
      "num abs(coeff)>1.0:2,    r-squared testing: 0.257\n",
      "Alpha = 50.00\n",
      "num abs(coeff) > 1.0: 0, r-squared training: 0.23\n",
      "Alpha = 50.00\n",
      "num abs(coeff)>1.0:0,    r-squared testing: 0.183\n",
      "Alpha = 100.00\n",
      "num abs(coeff) > 1.0: 0, r-squared training: 0.16\n",
      "Alpha = 100.00\n",
      "num abs(coeff)>1.0:0,    r-squared testing: 0.121\n",
      "Alpha = 1000.00\n",
      "num abs(coeff) > 1.0: 0, r-squared training: 0.02\n",
      "Alpha = 1000.00\n",
      "num abs(coeff)>1.0:0,    r-squared testing: 0.009\n",
      "r-squared:(Train) 0.471\n",
      "r-squared:(Test) 0.366\n"
     ]
    }
   ],
   "source": [
    "print('Ridge regression: effect of alpha regularization parameter\\n')\n",
    "for this_alpha in [0, 1, 10, 20, 50, 100, 1000]:\n",
    "    linridge = Ridge(alpha = this_alpha).fit(Features_scaled, value)  \n",
    "    r2_train = linridge.score(X_train_scaled, y_train)\n",
    "    r2_test = linridge.score(X_test_scaled,y_test)\n",
    "    num_coeff_bigger = np.sum(abs(linridge.coef_) > 1.0)\n",
    "    print('Alpha = {:.2f}\\nnum abs(coeff) > 1.0: {}, \\\n",
    "r-squared training: {:.2f}'\n",
    "         .format(this_alpha, num_coeff_bigger, r2_train))\n",
    "    print('Alpha = {:.2f}\\nnum abs(coeff)>1.0:{},\\\n",
    "    r-squared testing: {:.3f}'.format(this_alpha,num_coeff_bigger,r2_test))\n",
    "\n",
    "linreg = reg.fit(Features_scaled,value) \n",
    "r1_train = linreg.score(X_train_scaled,y_train)\n",
    "r1_test = linreg.score(X_test_scaled,y_test)\n",
    "print('r-squared:(Train) {:.3f}'.format(r1_train))\n",
    "print('r-squared:(Test) {:.3f}'.format(r1_test))     "
   ]
  },
  {
   "cell_type": "code",
   "execution_count": null,
   "metadata": {},
   "outputs": [],
   "source": []
  }
 ],
 "metadata": {
  "kernelspec": {
   "display_name": "Python 3",
   "language": "python",
   "name": "python3"
  },
  "language_info": {
   "codemirror_mode": {
    "name": "ipython",
    "version": 3
   },
   "file_extension": ".py",
   "mimetype": "text/x-python",
   "name": "python",
   "nbconvert_exporter": "python",
   "pygments_lexer": "ipython3",
   "version": "3.5.2"
  }
 },
 "nbformat": 4,
 "nbformat_minor": 2
}
